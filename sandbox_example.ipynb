{
 "cells": [
  {
   "cell_type": "markdown",
   "metadata": {},
   "source": [
    "# EuroMillionVisualizer\n",
    "\n",
    "Visualize data from Euromillion results since 2004.\n",
    "\n",
    "## Write to file data from API\n",
    "\n",
    "The API is accessible from : `Config().cfg['API']`. Please configure your `.env` file and the `API` field in order to use this project."
   ]
  },
  {
   "cell_type": "code",
   "execution_count": 3,
   "metadata": {},
   "outputs": [
    {
     "name": "stdout",
     "output_type": "stream",
     "text": [
      "successfully written data to file\n"
     ]
    }
   ],
   "source": [
    "import sys\n",
    "sys.path.append('src')\n",
    "import utils.file as file \n",
    "import utils.api as api\n",
    "import json\n",
    "import os\n",
    "from src.utils.config import Config\n",
    "\n",
    "data = api.get_parsed_data_from_api((Config()).cfg['API'])\n",
    "written = file.write_to_file(os.path.join('src','assets','euro_million_data.json'), json.dumps(data))\n",
    "print(\"successfully written data to file\" if written else \"failed to write data\")"
   ]
  },
  {
   "cell_type": "markdown",
   "metadata": {},
   "source": [
    "## Load data from file\n",
    "\n",
    "Once the data has been loaded to the file, we can load the data. This will enable us to work with fresh data, while not having to query the API multiple times. *(Since the Euromillion is played only twice a week, there is no time sensitive data that would justify calling the API more than once a day)*"
   ]
  },
  {
   "cell_type": "code",
   "execution_count": 2,
   "metadata": {},
   "outputs": [
    {
     "name": "stdout",
     "output_type": "stream",
     "text": [
      "[{'date': 'Fri, 13 Feb 2004 00:00:00 GMT', 'draw_id': 12004, 'has_winner': False, 'id': 1, 'numbers': ['16', '29', '32', '36', '41'], 'prize': 0.0, 'stars': ['7', '9']}, {'date': 'Fri, 20 Feb 2004 00:00:00 GMT', 'draw_id': 22004, 'has_winner': False, 'id': 2, 'numbers': ['7', '13', '39', '47', '50'], 'prize': 0.0, 'stars': ['2', '5']}, {'date': 'Fri, 27 Feb 2004 00:00:00 GMT', 'draw_id': 32004, 'has_winner': False, 'id': 3, 'numbers': ['14', '18', '19', '31', '37'], 'prize': 0.0, 'stars': ['4', '5']}, {'date': 'Fri, 05 Mar 2004 00:00:00 GMT', 'draw_id': 42004, 'has_winner': False, 'id': 4, 'numbers': ['4', '7', '33', '37', '39'], 'prize': 0.0, 'stars': ['1', '5']}, {'date': 'Fri, 12 Mar 2004 00:00:00 GMT', 'draw_id': 52004, 'has_winner': False, 'id': 5, 'numbers': ['15', '24', '28', '44', '47'], 'prize': 0.0, 'stars': ['4', '5']}, {'date': 'Fri, 19 Mar 2004 00:00:00 GMT', 'draw_id': 62004, 'has_winner': False, 'id': 6, 'numbers': ['33', '36', '37', '42', '45'], 'prize': 0.0, 'stars': ['4', '9']}, {'date': 'Fri, 26 Mar 2004 00:00:00 GMT', 'draw_id': 72004, 'has_winner': False, 'id': 7, 'numbers': ['3', '4', '10', '23', '43'], 'prize': 0.0, 'stars': ['2', '4']}, {'date': 'Fri, 02 Apr 2004 00:00:00 GMT', 'draw_id': 82004, 'has_winner': False, 'id': 8, 'numbers': ['4', '12', '24', '27', '36'], 'prize': 0.0, 'stars': ['2', '9']}, {'date': 'Fri, 09 Apr 2004 00:00:00 GMT', 'draw_id': 92004, 'has_winner': False, 'id': 9, 'numbers': ['1', '4', '10', '19', '23'], 'prize': 0.0, 'stars': ['2', '8']}, {'date': 'Fri, 16 Apr 2004 00:00:00 GMT', 'draw_id': 102004, 'has_winner': False, 'id': 10, 'numbers': ['14', '15', '28', '35', '40'], 'prize': 0.0, 'stars': ['1', '3']}]\n"
     ]
    }
   ],
   "source": [
    "import sys\n",
    "sys.path.append('src')\n",
    "import utils.file as file\n",
    "import json\n",
    "import os\n",
    "\n",
    "print(json.loads(file.read_from_file(os.path.join('src','assets','euro_million_data.json')))[0:10])"
   ]
  },
  {
   "cell_type": "markdown",
   "metadata": {},
   "source": []
  },
  {
   "cell_type": "code",
   "execution_count": null,
   "metadata": {},
   "outputs": [],
   "source": [
    "import os\n",
    "\n",
    "print(os.getcwd())\n",
    "print(os.path.isdir('src'))"
   ]
  },
  {
   "cell_type": "markdown",
   "metadata": {},
   "source": [
    "# Get Matrix of occurence per number per position"
   ]
  },
  {
   "cell_type": "code",
   "execution_count": 1,
   "metadata": {},
   "outputs": [
    {
     "name": "stdout",
     "output_type": "stream",
     "text": [
      "grid :\n",
      "    +---------+-----+-----+-----+-----+-----+-----+-----+-----+-----+-----+-----+-----+-----+-----+-----+-----+-----+-----+-----+-----+-----+-----+-----+-----+-----+-----+-----+-----+-----+-----+-----+-----+-----+-----+-----+-----+-----+-----+-----+-----+-----+-----+-----+-----+-----+-----+-----+-----+-----+\n",
      "    |        1|    2|    3|    4|    5|    6|    7|    8|    9|   10|   11|   12|   13|   14|   15|   16|   17|   18|   19|   20|   21|   22|   23|   24|   25|   26|   27|   28|   29|   30|   31|   32|   33|   34|   35|   36|   37|   38|   39|   40|   41|   42|   43|   44|   45|   46|   47|   48|   49|   50|\n",
      "----+---------+-----+-----+-----+-----+-----+-----+-----+-----+-----+-----+-----+-----+-----+-----+-----+-----+-----+-----+-----+-----+-----+-----+-----+-----+-----+-----+-----+-----+-----+-----+-----+-----+-----+-----+-----+-----+-----+-----+-----+-----+-----+-----+-----+-----+-----+-----+-----+-----+-----+\n",
      "1   |      165|  143|  143|  127|  126|  116|  100|   75|   72|   70|   65|   69|   51|   56|   36|   39|   34|   25|   26|   20|   19|   14|   16|   11|   11|    7|    5|    4|    4|    0|    4|    3|    1|    3|    2|    0|    0|    1|    0|    0|    0|    0|    0|    0|    0|    0|    0|    0|    0|    0|\n",
      "----+---------+-----+-----+-----+-----+-----+-----+-----+-----+-----+-----+-----+-----+-----+-----+-----+-----+-----+-----+-----+-----+-----+-----+-----+-----+-----+-----+-----+-----+-----+-----+-----+-----+-----+-----+-----+-----+-----+-----+-----+-----+-----+-----+-----+-----+-----+-----+-----+-----+-----+\n",
      "2   |        0|   10|   24|   40|   48|   42|   61|   60|   67|   74|   79|   71|   63|   65|   79|   71|   77|   56|   69|   72|   65|   41|   65|   48|   48|   47|   36|   28|   38|   23|   18|   16|   14|   10|    6|   11|   10|    4|    2|    2|    1|    1|    0|    1|    0|    0|    0|    0|    0|    0|\n",
      "----+---------+-----+-----+-----+-----+-----+-----+-----+-----+-----+-----+-----+-----+-----+-----+-----+-----+-----+-----+-----+-----+-----+-----+-----+-----+-----+-----+-----+-----+-----+-----+-----+-----+-----+-----+-----+-----+-----+-----+-----+-----+-----+-----+-----+-----+-----+-----+-----+-----+-----+\n",
      "3   |        0|    0|    0|    0|    2|    5|    6|   15|   18|   28|   20|   29|   44|   36|   50|   40|   54|   49|   61|   62|   70|   57|   64|   66|   69|   73|   69|   61|   66|   62|   58|   54|   41|   54|   52|   44|   43|   35|   32|   14|   15|   21|   10|    5|    3|    1|    5|    0|    0|    0|\n",
      "----+---------+-----+-----+-----+-----+-----+-----+-----+-----+-----+-----+-----+-----+-----+-----+-----+-----+-----+-----+-----+-----+-----+-----+-----+-----+-----+-----+-----+-----+-----+-----+-----+-----+-----+-----+-----+-----+-----+-----+-----+-----+-----+-----+-----+-----+-----+-----+-----+-----+-----+\n",
      "4   |        0|    0|    0|    0|    0|    0|    0|    0|    1|    4|    5|    2|    6|   11|    9|    8|   18|   11|   30|   15|   27|   20|   37|   31|   47|   41|   56|   53|   53|   61|   54|   63|   62|   68|   80|   65|   77|   89|   68|   77|   57|   72|   63|   61|   56|   33|   36|   21|   15|    0|\n",
      "----+---------+-----+-----+-----+-----+-----+-----+-----+-----+-----+-----+-----+-----+-----+-----+-----+-----+-----+-----+-----+-----+-----+-----+-----+-----+-----+-----+-----+-----+-----+-----+-----+-----+-----+-----+-----+-----+-----+-----+-----+-----+-----+-----+-----+-----+-----+-----+-----+-----+-----+\n",
      "5   |        0|    0|    0|    0|    0|    0|    0|    0|    0|    0|    0|    0|    0|    0|    0|    3|    0|    1|    2|    1|    6|    2|    9|    7|    5|   13|   11|   17|   17|   21|   24|   23|   24|   31|   29|   36|   48|   52|   59|   59|   70|   90|   85|  122|  110|  107|  108|  137|  150|  184|\n",
      "----+---------+-----+-----+-----+-----+-----+-----+-----+-----+-----+-----+-----+-----+-----+-----+-----+-----+-----+-----+-----+-----+-----+-----+-----+-----+-----+-----+-----+-----+-----+-----+-----+-----+-----+-----+-----+-----+-----+-----+-----+-----+-----+-----+-----+-----+-----+-----+-----+-----+-----+\n",
      "stars :\n",
      "    +---------+-----+-----+-----+-----+-----+-----+-----+-----+-----+-----+-----+\n",
      "    |        1|    2|    3|    4|    5|    6|    7|    8|    9|   10|   11|   12|\n",
      "----+---------+-----+-----+-----+-----+-----+-----+-----+-----+-----+-----+-----+\n",
      "1   |      289|  308|  276|  183|  162|  139|  104|  102|   60|   28|   12|    0|\n",
      "----+---------+-----+-----+-----+-----+-----+-----+-----+-----+-----+-----+-----+\n",
      "2   |        0|   27|   63|   83|  126|  165|  196|  220|  242|  204|  219|  118|\n",
      "----+---------+-----+-----+-----+-----+-----+-----+-----+-----+-----+-----+-----+\n"
     ]
    },
    {
     "name": "stderr",
     "output_type": "stream",
     "text": [
      "/Users/lilithnaito/Library/Python/3.9/lib/python/site-packages/urllib3/__init__.py:34: NotOpenSSLWarning: urllib3 v2.0 only supports OpenSSL 1.1.1+, currently the 'ssl' module is compiled with 'LibreSSL 2.8.3'. See: https://github.com/urllib3/urllib3/issues/3020\n",
      "  warnings.warn(\n"
     ]
    }
   ],
   "source": [
    "import sys\n",
    "sys.path.append('src')\n",
    "from main import get_occurence_rate_per_number_per_position, get_data\n",
    "from utils.utils import display_mtx\n",
    "\n",
    "\n",
    "data = get_data()\n",
    "mtx_g, mtx_star = get_occurence_rate_per_number_per_position(data)\n",
    "display_mtx('grid', mtx_g)\n",
    "display_mtx('stars', mtx_star)"
   ]
  }
 ],
 "metadata": {
  "kernelspec": {
   "display_name": "Python 3",
   "language": "python",
   "name": "python3"
  },
  "language_info": {
   "codemirror_mode": {
    "name": "ipython",
    "version": 3
   },
   "file_extension": ".py",
   "mimetype": "text/x-python",
   "name": "python",
   "nbconvert_exporter": "python",
   "pygments_lexer": "ipython3",
   "version": "3.9.6"
  },
  "orig_nbformat": 4
 },
 "nbformat": 4,
 "nbformat_minor": 2
}
