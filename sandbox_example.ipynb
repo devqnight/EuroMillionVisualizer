{
 "cells": [
  {
   "cell_type": "markdown",
   "metadata": {},
   "source": [
    "# EuroMillionVisualizer\n",
    "\n",
    "Visualize data from Euromillion results since 2004.\n",
    "\n",
    "## Write to file data from API\n",
    "\n",
    "The API is accessible from : `Config().cfg['API']`. Please configure your `.env` file and the `API` field in order to use this project."
   ]
  },
  {
   "cell_type": "code",
   "execution_count": 4,
   "metadata": {},
   "outputs": [
    {
     "name": "stderr",
     "output_type": "stream",
     "text": [
      "/Users/lilithnaito/Library/Python/3.9/lib/python/site-packages/urllib3/__init__.py:34: NotOpenSSLWarning: urllib3 v2.0 only supports OpenSSL 1.1.1+, currently the 'ssl' module is compiled with 'LibreSSL 2.8.3'. See: https://github.com/urllib3/urllib3/issues/3020\n",
      "  warnings.warn(\n"
     ]
    },
    {
     "name": "stdout",
     "output_type": "stream",
     "text": [
      "successfully written data to file\n"
     ]
    }
   ],
   "source": [
    "import src.utils.file as file \n",
    "import src.utils.api as api\n",
    "import json\n",
    "import os\n",
    "from src.utils.config import Config\n",
    "\n",
    "data = api.get_parsed_data_from_api((Config()).cfg['API'])\n",
    "written = file.write_to_file(os.path.join('src','assets','euro_million_data.json'), json.dumps(data))\n",
    "print(\"successfully written data to file\" if written else \"failed to write data\")"
   ]
  },
  {
   "cell_type": "markdown",
   "metadata": {},
   "source": [
    "## Load data from file\n",
    "\n",
    "Once the data has been loaded to the file, we can load the data. This will enable us to work with fresh data, while not having to query the API multiple times. *(Since the Euromillion is played only twice a week, there is no time sensitive data that would justify calling the API more than once a day)*"
   ]
  },
  {
   "cell_type": "code",
   "execution_count": 5,
   "metadata": {},
   "outputs": [
    {
     "name": "stdout",
     "output_type": "stream",
     "text": [
      "[{'date': 'Fri, 13 Feb 2004 00:00:00 GMT', 'draw_id': 12004, 'has_winner': False, 'id': 1, 'numbers': ['16', '29', '32', '36', '41'], 'prize': 0.0, 'stars': ['7', '9']}, {'date': 'Fri, 20 Feb 2004 00:00:00 GMT', 'draw_id': 22004, 'has_winner': False, 'id': 2, 'numbers': ['7', '13', '39', '47', '50'], 'prize': 0.0, 'stars': ['2', '5']}, {'date': 'Fri, 27 Feb 2004 00:00:00 GMT', 'draw_id': 32004, 'has_winner': False, 'id': 3, 'numbers': ['14', '18', '19', '31', '37'], 'prize': 0.0, 'stars': ['4', '5']}, {'date': 'Fri, 05 Mar 2004 00:00:00 GMT', 'draw_id': 42004, 'has_winner': False, 'id': 4, 'numbers': ['4', '7', '33', '37', '39'], 'prize': 0.0, 'stars': ['1', '5']}, {'date': 'Fri, 12 Mar 2004 00:00:00 GMT', 'draw_id': 52004, 'has_winner': False, 'id': 5, 'numbers': ['15', '24', '28', '44', '47'], 'prize': 0.0, 'stars': ['4', '5']}, {'date': 'Fri, 19 Mar 2004 00:00:00 GMT', 'draw_id': 62004, 'has_winner': False, 'id': 6, 'numbers': ['33', '36', '37', '42', '45'], 'prize': 0.0, 'stars': ['4', '9']}, {'date': 'Fri, 26 Mar 2004 00:00:00 GMT', 'draw_id': 72004, 'has_winner': False, 'id': 7, 'numbers': ['3', '4', '10', '23', '43'], 'prize': 0.0, 'stars': ['2', '4']}, {'date': 'Fri, 02 Apr 2004 00:00:00 GMT', 'draw_id': 82004, 'has_winner': False, 'id': 8, 'numbers': ['4', '12', '24', '27', '36'], 'prize': 0.0, 'stars': ['2', '9']}, {'date': 'Fri, 09 Apr 2004 00:00:00 GMT', 'draw_id': 92004, 'has_winner': False, 'id': 9, 'numbers': ['1', '4', '10', '19', '23'], 'prize': 0.0, 'stars': ['2', '8']}, {'date': 'Fri, 16 Apr 2004 00:00:00 GMT', 'draw_id': 102004, 'has_winner': False, 'id': 10, 'numbers': ['14', '15', '28', '35', '40'], 'prize': 0.0, 'stars': ['1', '3']}]\n"
     ]
    }
   ],
   "source": [
    "import src.utils.file as file\n",
    "import json\n",
    "import os\n",
    "\n",
    "print(json.loads(file.read_from_file(os.path.join('src','assets','euro_million_data.json')))[0:10])"
   ]
  },
  {
   "cell_type": "markdown",
   "metadata": {},
   "source": []
  },
  {
   "cell_type": "code",
   "execution_count": 3,
   "metadata": {},
   "outputs": [
    {
     "name": "stdout",
     "output_type": "stream",
     "text": [
      "/Users/lilithnaito/Documents/codding/personal-projects/EuroMillionVisualizer\n",
      "True\n"
     ]
    }
   ],
   "source": [
    "import os\n",
    "\n",
    "print(os.getcwd())\n",
    "print(os.path.isdir('src'))"
   ]
  }
 ],
 "metadata": {
  "kernelspec": {
   "display_name": "Python 3",
   "language": "python",
   "name": "python3"
  },
  "language_info": {
   "codemirror_mode": {
    "name": "ipython",
    "version": 3
   },
   "file_extension": ".py",
   "mimetype": "text/x-python",
   "name": "python",
   "nbconvert_exporter": "python",
   "pygments_lexer": "ipython3",
   "version": "3.9.6"
  },
  "orig_nbformat": 4
 },
 "nbformat": 4,
 "nbformat_minor": 2
}
